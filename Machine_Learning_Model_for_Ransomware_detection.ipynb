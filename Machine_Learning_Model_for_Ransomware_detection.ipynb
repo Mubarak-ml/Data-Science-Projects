{
  "nbformat": 4,
  "nbformat_minor": 0,
  "metadata": {
    "colab": {
      "provenance": [],
      "mount_file_id": "1J4_LyMmb3xTNoVl9vUqP9osULZYW9xnL",
      "authorship_tag": "ABX9TyOToN6Bm7kNWlM+1N6d1EMb",
      "include_colab_link": true
    },
    "kernelspec": {
      "name": "python3",
      "display_name": "Python 3"
    },
    "language_info": {
      "name": "python"
    }
  },
  "cells": [
    {
      "cell_type": "markdown",
      "metadata": {
        "id": "view-in-github",
        "colab_type": "text"
      },
      "source": [
        "<a href=\"https://colab.research.google.com/github/Mubarak-ml/Data-Science-Projects/blob/main/Machine_Learning_Model_for_Ransomware_detection.ipynb\" target=\"_parent\"><img src=\"https://colab.research.google.com/assets/colab-badge.svg\" alt=\"Open In Colab\"/></a>"
      ]
    },
    {
      "cell_type": "code",
      "metadata": {
        "id": "UH1Bgx49msIs"
      },
      "source": [
        "import numpy as np\n",
        "import pandas as pd\n",
        "import matplotlib.pyplot as plt\n",
        "import seaborn as sns\n",
        "from sklearn.preprocessing import StandardScaler\n",
        "from sklearn.model_selection import train_test_split\n",
        "from sklearn import svm\n",
        "from sklearn.linear_model import LogisticRegression\n",
        "from sklearn.ensemble import RandomForestClassifier\n",
        "from sklearn import model_selection\n",
        "from sklearn.metrics import accuracy_score\n",
        "from sklearn.metrics import confusion_matrix, plot_confusion_matrix\n",
        "from sklearn.metrics import plot_roc_curve, plot_precision_recall_curve, roc_curve\n",
        "from sklearn.metrics import f1_score"
      ],
      "execution_count": null,
      "outputs": []
    },
    {
      "cell_type": "code",
      "source": [
        "Dataset = pd.read_csv('/content/drive/MyDrive/ML Dataset/data_file.csv')"
      ],
      "metadata": {
        "id": "bGqYehLArNOY"
      },
      "execution_count": null,
      "outputs": []
    },
    {
      "cell_type": "code",
      "source": [
        "Dataset.head()"
      ],
      "metadata": {
        "colab": {
          "base_uri": "https://localhost:8080/",
          "height": 270
        },
        "id": "oby9B3glsW3k",
        "outputId": "85b7c875-ef83-43a9-ac1c-8b05c3ae043d"
      },
      "execution_count": null,
      "outputs": [
        {
          "output_type": "execute_result",
          "data": {
            "text/plain": [
              "                                            FileName  \\\n",
              "0           0124e21d-018c-4ce0-92a3-b9e205a76bc0.dll   \n",
              "1       05c8318f98a5d301d80000009c316005.vertdll.dll   \n",
              "2           06054fba-5619-4a86-a861-ffb0464bef5d.dll   \n",
              "3        075822ac99a5d301660400009c316005.adhapi.dll   \n",
              "4  090607dd9ba5d301ca0900009c316005.SensorsNative...   \n",
              "\n",
              "                            md5Hash  Machine  DebugSize  DebugRVA  \\\n",
              "0  79755c51e413ed3c6be4635fd729a6e1    332.0        0.0       0.0   \n",
              "1  95e19f3657d34a432eada93221b0ea16  34404.0       84.0  121728.0   \n",
              "2  85c32641d77a54e19ba8ea4ab305c791    332.0        0.0       0.0   \n",
              "3  62e3b959d982ef534b66f819fe15f085  34404.0       84.0   19904.0   \n",
              "4  ae38c5f7d313ad0ff3bfb8826476767f  34404.0       84.0   97728.0   \n",
              "\n",
              "   MajorImageVersion  MajorOSVersion  ExportRVA  ExportSize   IatVRA  \\\n",
              "0                0.0             4.0        0.0         0.0   8192.0   \n",
              "1               10.0            10.0   126576.0      4930.0      0.0   \n",
              "2                0.0             4.0        0.0         0.0   8192.0   \n",
              "3               10.0            10.0    21312.0       252.0  18160.0   \n",
              "4               10.0            10.0   105792.0      1852.0  70592.0   \n",
              "\n",
              "   MajorLinkerVersion  MinorLinkerVersion  NumberOfSections  \\\n",
              "0                 8.0                 0.0               3.0   \n",
              "1                14.0                10.0               8.0   \n",
              "2                 8.0                 0.0               3.0   \n",
              "3                14.0                10.0               6.0   \n",
              "4                14.0                10.0               7.0   \n",
              "\n",
              "   SizeOfStackReserve  DllCharacteristics  ResourceSize  BitcoinAddresses  \\\n",
              "0           1048576.0             34112.0         672.0               0.0   \n",
              "1            262144.0             16864.0        1024.0               0.0   \n",
              "2           1048576.0             34112.0         672.0               0.0   \n",
              "3            262144.0             16736.0        1040.0               0.0   \n",
              "4            262144.0             16736.0        1096.0               0.0   \n",
              "\n",
              "   Benign  \n",
              "0     1.0  \n",
              "1     1.0  \n",
              "2     1.0  \n",
              "3     1.0  \n",
              "4     1.0  "
            ],
            "text/html": [
              "\n",
              "  <div id=\"df-3d769332-d591-49b2-befe-8730739ceaa4\">\n",
              "    <div class=\"colab-df-container\">\n",
              "      <div>\n",
              "<style scoped>\n",
              "    .dataframe tbody tr th:only-of-type {\n",
              "        vertical-align: middle;\n",
              "    }\n",
              "\n",
              "    .dataframe tbody tr th {\n",
              "        vertical-align: top;\n",
              "    }\n",
              "\n",
              "    .dataframe thead th {\n",
              "        text-align: right;\n",
              "    }\n",
              "</style>\n",
              "<table border=\"1\" class=\"dataframe\">\n",
              "  <thead>\n",
              "    <tr style=\"text-align: right;\">\n",
              "      <th></th>\n",
              "      <th>FileName</th>\n",
              "      <th>md5Hash</th>\n",
              "      <th>Machine</th>\n",
              "      <th>DebugSize</th>\n",
              "      <th>DebugRVA</th>\n",
              "      <th>MajorImageVersion</th>\n",
              "      <th>MajorOSVersion</th>\n",
              "      <th>ExportRVA</th>\n",
              "      <th>ExportSize</th>\n",
              "      <th>IatVRA</th>\n",
              "      <th>MajorLinkerVersion</th>\n",
              "      <th>MinorLinkerVersion</th>\n",
              "      <th>NumberOfSections</th>\n",
              "      <th>SizeOfStackReserve</th>\n",
              "      <th>DllCharacteristics</th>\n",
              "      <th>ResourceSize</th>\n",
              "      <th>BitcoinAddresses</th>\n",
              "      <th>Benign</th>\n",
              "    </tr>\n",
              "  </thead>\n",
              "  <tbody>\n",
              "    <tr>\n",
              "      <th>0</th>\n",
              "      <td>0124e21d-018c-4ce0-92a3-b9e205a76bc0.dll</td>\n",
              "      <td>79755c51e413ed3c6be4635fd729a6e1</td>\n",
              "      <td>332.0</td>\n",
              "      <td>0.0</td>\n",
              "      <td>0.0</td>\n",
              "      <td>0.0</td>\n",
              "      <td>4.0</td>\n",
              "      <td>0.0</td>\n",
              "      <td>0.0</td>\n",
              "      <td>8192.0</td>\n",
              "      <td>8.0</td>\n",
              "      <td>0.0</td>\n",
              "      <td>3.0</td>\n",
              "      <td>1048576.0</td>\n",
              "      <td>34112.0</td>\n",
              "      <td>672.0</td>\n",
              "      <td>0.0</td>\n",
              "      <td>1.0</td>\n",
              "    </tr>\n",
              "    <tr>\n",
              "      <th>1</th>\n",
              "      <td>05c8318f98a5d301d80000009c316005.vertdll.dll</td>\n",
              "      <td>95e19f3657d34a432eada93221b0ea16</td>\n",
              "      <td>34404.0</td>\n",
              "      <td>84.0</td>\n",
              "      <td>121728.0</td>\n",
              "      <td>10.0</td>\n",
              "      <td>10.0</td>\n",
              "      <td>126576.0</td>\n",
              "      <td>4930.0</td>\n",
              "      <td>0.0</td>\n",
              "      <td>14.0</td>\n",
              "      <td>10.0</td>\n",
              "      <td>8.0</td>\n",
              "      <td>262144.0</td>\n",
              "      <td>16864.0</td>\n",
              "      <td>1024.0</td>\n",
              "      <td>0.0</td>\n",
              "      <td>1.0</td>\n",
              "    </tr>\n",
              "    <tr>\n",
              "      <th>2</th>\n",
              "      <td>06054fba-5619-4a86-a861-ffb0464bef5d.dll</td>\n",
              "      <td>85c32641d77a54e19ba8ea4ab305c791</td>\n",
              "      <td>332.0</td>\n",
              "      <td>0.0</td>\n",
              "      <td>0.0</td>\n",
              "      <td>0.0</td>\n",
              "      <td>4.0</td>\n",
              "      <td>0.0</td>\n",
              "      <td>0.0</td>\n",
              "      <td>8192.0</td>\n",
              "      <td>8.0</td>\n",
              "      <td>0.0</td>\n",
              "      <td>3.0</td>\n",
              "      <td>1048576.0</td>\n",
              "      <td>34112.0</td>\n",
              "      <td>672.0</td>\n",
              "      <td>0.0</td>\n",
              "      <td>1.0</td>\n",
              "    </tr>\n",
              "    <tr>\n",
              "      <th>3</th>\n",
              "      <td>075822ac99a5d301660400009c316005.adhapi.dll</td>\n",
              "      <td>62e3b959d982ef534b66f819fe15f085</td>\n",
              "      <td>34404.0</td>\n",
              "      <td>84.0</td>\n",
              "      <td>19904.0</td>\n",
              "      <td>10.0</td>\n",
              "      <td>10.0</td>\n",
              "      <td>21312.0</td>\n",
              "      <td>252.0</td>\n",
              "      <td>18160.0</td>\n",
              "      <td>14.0</td>\n",
              "      <td>10.0</td>\n",
              "      <td>6.0</td>\n",
              "      <td>262144.0</td>\n",
              "      <td>16736.0</td>\n",
              "      <td>1040.0</td>\n",
              "      <td>0.0</td>\n",
              "      <td>1.0</td>\n",
              "    </tr>\n",
              "    <tr>\n",
              "      <th>4</th>\n",
              "      <td>090607dd9ba5d301ca0900009c316005.SensorsNative...</td>\n",
              "      <td>ae38c5f7d313ad0ff3bfb8826476767f</td>\n",
              "      <td>34404.0</td>\n",
              "      <td>84.0</td>\n",
              "      <td>97728.0</td>\n",
              "      <td>10.0</td>\n",
              "      <td>10.0</td>\n",
              "      <td>105792.0</td>\n",
              "      <td>1852.0</td>\n",
              "      <td>70592.0</td>\n",
              "      <td>14.0</td>\n",
              "      <td>10.0</td>\n",
              "      <td>7.0</td>\n",
              "      <td>262144.0</td>\n",
              "      <td>16736.0</td>\n",
              "      <td>1096.0</td>\n",
              "      <td>0.0</td>\n",
              "      <td>1.0</td>\n",
              "    </tr>\n",
              "  </tbody>\n",
              "</table>\n",
              "</div>\n",
              "      <button class=\"colab-df-convert\" onclick=\"convertToInteractive('df-3d769332-d591-49b2-befe-8730739ceaa4')\"\n",
              "              title=\"Convert this dataframe to an interactive table.\"\n",
              "              style=\"display:none;\">\n",
              "        \n",
              "  <svg xmlns=\"http://www.w3.org/2000/svg\" height=\"24px\"viewBox=\"0 0 24 24\"\n",
              "       width=\"24px\">\n",
              "    <path d=\"M0 0h24v24H0V0z\" fill=\"none\"/>\n",
              "    <path d=\"M18.56 5.44l.94 2.06.94-2.06 2.06-.94-2.06-.94-.94-2.06-.94 2.06-2.06.94zm-11 1L8.5 8.5l.94-2.06 2.06-.94-2.06-.94L8.5 2.5l-.94 2.06-2.06.94zm10 10l.94 2.06.94-2.06 2.06-.94-2.06-.94-.94-2.06-.94 2.06-2.06.94z\"/><path d=\"M17.41 7.96l-1.37-1.37c-.4-.4-.92-.59-1.43-.59-.52 0-1.04.2-1.43.59L10.3 9.45l-7.72 7.72c-.78.78-.78 2.05 0 2.83L4 21.41c.39.39.9.59 1.41.59.51 0 1.02-.2 1.41-.59l7.78-7.78 2.81-2.81c.8-.78.8-2.07 0-2.86zM5.41 20L4 18.59l7.72-7.72 1.47 1.35L5.41 20z\"/>\n",
              "  </svg>\n",
              "      </button>\n",
              "      \n",
              "  <style>\n",
              "    .colab-df-container {\n",
              "      display:flex;\n",
              "      flex-wrap:wrap;\n",
              "      gap: 12px;\n",
              "    }\n",
              "\n",
              "    .colab-df-convert {\n",
              "      background-color: #E8F0FE;\n",
              "      border: none;\n",
              "      border-radius: 50%;\n",
              "      cursor: pointer;\n",
              "      display: none;\n",
              "      fill: #1967D2;\n",
              "      height: 32px;\n",
              "      padding: 0 0 0 0;\n",
              "      width: 32px;\n",
              "    }\n",
              "\n",
              "    .colab-df-convert:hover {\n",
              "      background-color: #E2EBFA;\n",
              "      box-shadow: 0px 1px 2px rgba(60, 64, 67, 0.3), 0px 1px 3px 1px rgba(60, 64, 67, 0.15);\n",
              "      fill: #174EA6;\n",
              "    }\n",
              "\n",
              "    [theme=dark] .colab-df-convert {\n",
              "      background-color: #3B4455;\n",
              "      fill: #D2E3FC;\n",
              "    }\n",
              "\n",
              "    [theme=dark] .colab-df-convert:hover {\n",
              "      background-color: #434B5C;\n",
              "      box-shadow: 0px 1px 3px 1px rgba(0, 0, 0, 0.15);\n",
              "      filter: drop-shadow(0px 1px 2px rgba(0, 0, 0, 0.3));\n",
              "      fill: #FFFFFF;\n",
              "    }\n",
              "  </style>\n",
              "\n",
              "      <script>\n",
              "        const buttonEl =\n",
              "          document.querySelector('#df-3d769332-d591-49b2-befe-8730739ceaa4 button.colab-df-convert');\n",
              "        buttonEl.style.display =\n",
              "          google.colab.kernel.accessAllowed ? 'block' : 'none';\n",
              "\n",
              "        async function convertToInteractive(key) {\n",
              "          const element = document.querySelector('#df-3d769332-d591-49b2-befe-8730739ceaa4');\n",
              "          const dataTable =\n",
              "            await google.colab.kernel.invokeFunction('convertToInteractive',\n",
              "                                                     [key], {});\n",
              "          if (!dataTable) return;\n",
              "\n",
              "          const docLinkHtml = 'Like what you see? Visit the ' +\n",
              "            '<a target=\"_blank\" href=https://colab.research.google.com/notebooks/data_table.ipynb>data table notebook</a>'\n",
              "            + ' to learn more about interactive tables.';\n",
              "          element.innerHTML = '';\n",
              "          dataTable['output_type'] = 'display_data';\n",
              "          await google.colab.output.renderOutput(dataTable, element);\n",
              "          const docLink = document.createElement('div');\n",
              "          docLink.innerHTML = docLinkHtml;\n",
              "          element.appendChild(docLink);\n",
              "        }\n",
              "      </script>\n",
              "    </div>\n",
              "  </div>\n",
              "  "
            ]
          },
          "metadata": {},
          "execution_count": 3
        }
      ]
    },
    {
      "cell_type": "code",
      "source": [
        "Dataset.info()"
      ],
      "metadata": {
        "colab": {
          "base_uri": "https://localhost:8080/"
        },
        "id": "D3fHZ38Tsg69",
        "outputId": "272d0808-bb08-479a-91a4-7b1ee1a4fd67"
      },
      "execution_count": null,
      "outputs": [
        {
          "output_type": "stream",
          "name": "stdout",
          "text": [
            "<class 'pandas.core.frame.DataFrame'>\n",
            "RangeIndex: 34855 entries, 0 to 34854\n",
            "Data columns (total 18 columns):\n",
            " #   Column              Non-Null Count  Dtype  \n",
            "---  ------              --------------  -----  \n",
            " 0   FileName            34855 non-null  object \n",
            " 1   md5Hash             34855 non-null  object \n",
            " 2   Machine             34854 non-null  float64\n",
            " 3   DebugSize           34854 non-null  float64\n",
            " 4   DebugRVA            34854 non-null  float64\n",
            " 5   MajorImageVersion   34854 non-null  float64\n",
            " 6   MajorOSVersion      34854 non-null  float64\n",
            " 7   ExportRVA           34854 non-null  float64\n",
            " 8   ExportSize          34854 non-null  float64\n",
            " 9   IatVRA              34854 non-null  float64\n",
            " 10  MajorLinkerVersion  34854 non-null  float64\n",
            " 11  MinorLinkerVersion  34854 non-null  float64\n",
            " 12  NumberOfSections    34854 non-null  float64\n",
            " 13  SizeOfStackReserve  34854 non-null  float64\n",
            " 14  DllCharacteristics  34854 non-null  float64\n",
            " 15  ResourceSize        34854 non-null  float64\n",
            " 16  BitcoinAddresses    34854 non-null  float64\n",
            " 17  Benign              34854 non-null  float64\n",
            "dtypes: float64(16), object(2)\n",
            "memory usage: 4.8+ MB\n"
          ]
        }
      ]
    },
    {
      "cell_type": "code",
      "source": [
        "Dataset.shape"
      ],
      "metadata": {
        "id": "02dz-4cHswWZ",
        "colab": {
          "base_uri": "https://localhost:8080/"
        },
        "outputId": "cc6d690e-21a3-466f-c868-4109d2d87dfa"
      },
      "execution_count": null,
      "outputs": [
        {
          "output_type": "execute_result",
          "data": {
            "text/plain": [
              "(34855, 18)"
            ]
          },
          "metadata": {},
          "execution_count": 5
        }
      ]
    },
    {
      "cell_type": "code",
      "source": [
        "Dataset['Benign'].value_counts()"
      ],
      "metadata": {
        "colab": {
          "base_uri": "https://localhost:8080/"
        },
        "id": "yn5-D-Ixs3iZ",
        "outputId": "78ecab50-20f2-4976-a287-222f346ddf90"
      },
      "execution_count": null,
      "outputs": [
        {
          "output_type": "execute_result",
          "data": {
            "text/plain": [
              "1.0    27118\n",
              "0.0     7736\n",
              "Name: Benign, dtype: int64"
            ]
          },
          "metadata": {},
          "execution_count": 6
        }
      ]
    },
    {
      "cell_type": "code",
      "source": [
        "sns.countplot(x='Benign', data=Dataset)"
      ],
      "metadata": {
        "colab": {
          "base_uri": "https://localhost:8080/",
          "height": 297
        },
        "id": "KwD24Uqe_5Wn",
        "outputId": "b05bc4bb-59ed-4408-d129-2d8cfe350eeb"
      },
      "execution_count": null,
      "outputs": [
        {
          "output_type": "execute_result",
          "data": {
            "text/plain": [
              "<matplotlib.axes._subplots.AxesSubplot at 0x7fba6eb11b10>"
            ]
          },
          "metadata": {},
          "execution_count": 7
        },
        {
          "output_type": "display_data",
          "data": {
            "text/plain": [
              "<Figure size 432x288 with 1 Axes>"
            ],
            "image/png": "[encoded data removed]"
          },
          "metadata": {
            "needs_background": "light"
          }
        }
      ]
    },
    {
      "cell_type": "markdown",
      "source": [
        "1.0 ------> Benign Data\n",
        "\n",
        "0.0 ------> Ransomware Data"
      ],
      "metadata": {
        "id": "GBMIQQp0tE46"
      }
    },
    {
      "cell_type": "code",
      "source": [
        "Dataset.groupby('Benign').mean()"
      ],
      "metadata": {
        "colab": {
          "base_uri": "https://localhost:8080/",
          "height": 207
        },
        "id": "1aHjhfXQtjFb",
        "outputId": "3d0c6c4c-a632-4e04-87e7-2d769131487f"
      },
      "execution_count": null,
      "outputs": [
        {
          "output_type": "execute_result",
          "data": {
            "text/plain": [
              "             Machine  DebugSize       DebugRVA  MajorImageVersion  \\\n",
              "Benign                                                              \n",
              "0.0       336.404343   4.851861   41202.322647          10.014478   \n",
              "1.0     15130.166531  43.906040  312342.296040         121.893834   \n",
              "\n",
              "        MajorOSVersion     ExportRVA    ExportSize         IatVRA  \\\n",
              "Benign                                                              \n",
              "0.0           4.520295  1.380229e+06  1.016652e+06   63748.340745   \n",
              "1.0           6.573899  3.537788e+05  3.770666e+03  255314.197065   \n",
              "\n",
              "        MajorLinkerVersion  MinorLinkerVersion  NumberOfSections  \\\n",
              "Benign                                                             \n",
              "0.0               7.408609            8.016675          4.794338   \n",
              "1.0              12.850395            4.455491          4.701269   \n",
              "\n",
              "        SizeOfStackReserve  DllCharacteristics   ResourceSize  \\\n",
              "Benign                                                          \n",
              "0.0           1.046824e+06         9267.597079   83624.193899   \n",
              "1.0           6.733669e+05        17666.434398  141576.034036   \n",
              "\n",
              "        BitcoinAddresses  \n",
              "Benign                    \n",
              "0.0             0.012410  \n",
              "1.0             0.026329  "
            ],
            "text/html": [
              "\n",
              "  <div id=\"df-7f664c1c-06e3-482b-a17a-807e697f1cf3\">\n",
              "    <div class=\"colab-df-container\">\n",
              "      <div>\n",
              "<style scoped>\n",
              "    .dataframe tbody tr th:only-of-type {\n",
              "        vertical-align: middle;\n",
              "    }\n",
              "\n",
              "    .dataframe tbody tr th {\n",
              "        vertical-align: top;\n",
              "    }\n",
              "\n",
              "    .dataframe thead th {\n",
              "        text-align: right;\n",
              "    }\n",
              "</style>\n",
              "<table border=\"1\" class=\"dataframe\">\n",
              "  <thead>\n",
              "    <tr style=\"text-align: right;\">\n",
              "      <th></th>\n",
              "      <th>Machine</th>\n",
              "      <th>DebugSize</th>\n",
              "      <th>DebugRVA</th>\n",
              "      <th>MajorImageVersion</th>\n",
              "      <th>MajorOSVersion</th>\n",
              "      <th>ExportRVA</th>\n",
              "      <th>ExportSize</th>\n",
              "      <th>IatVRA</th>\n",
              "      <th>MajorLinkerVersion</th>\n",
              "      <th>MinorLinkerVersion</th>\n",
              "      <th>NumberOfSections</th>\n",
              "      <th>SizeOfStackReserve</th>\n",
              "      <th>DllCharacteristics</th>\n",
              "      <th>ResourceSize</th>\n",
              "      <th>BitcoinAddresses</th>\n",
              "    </tr>\n",
              "    <tr>\n",
              "      <th>Benign</th>\n",
              "      <th></th>\n",
              "      <th></th>\n",
              "      <th></th>\n",
              "      <th></th>\n",
              "      <th></th>\n",
              "      <th></th>\n",
              "      <th></th>\n",
              "      <th></th>\n",
              "      <th></th>\n",
              "      <th></th>\n",
              "      <th></th>\n",
              "      <th></th>\n",
              "      <th></th>\n",
              "      <th></th>\n",
              "      <th></th>\n",
              "    </tr>\n",
              "  </thead>\n",
              "  <tbody>\n",
              "    <tr>\n",
              "      <th>0.0</th>\n",
              "      <td>336.404343</td>\n",
              "      <td>4.851861</td>\n",
              "      <td>41202.322647</td>\n",
              "      <td>10.014478</td>\n",
              "      <td>4.520295</td>\n",
              "      <td>1.380229e+06</td>\n",
              "      <td>1.016652e+06</td>\n",
              "      <td>63748.340745</td>\n",
              "      <td>7.408609</td>\n",
              "      <td>8.016675</td>\n",
              "      <td>4.794338</td>\n",
              "      <td>1.046824e+06</td>\n",
              "      <td>9267.597079</td>\n",
              "      <td>83624.193899</td>\n",
              "      <td>0.012410</td>\n",
              "    </tr>\n",
              "    <tr>\n",
              "      <th>1.0</th>\n",
              "      <td>15130.166531</td>\n",
              "      <td>43.906040</td>\n",
              "      <td>312342.296040</td>\n",
              "      <td>121.893834</td>\n",
              "      <td>6.573899</td>\n",
              "      <td>3.537788e+05</td>\n",
              "      <td>3.770666e+03</td>\n",
              "      <td>255314.197065</td>\n",
              "      <td>12.850395</td>\n",
              "      <td>4.455491</td>\n",
              "      <td>4.701269</td>\n",
              "      <td>6.733669e+05</td>\n",
              "      <td>17666.434398</td>\n",
              "      <td>141576.034036</td>\n",
              "      <td>0.026329</td>\n",
              "    </tr>\n",
              "  </tbody>\n",
              "</table>\n",
              "</div>\n",
              "      <button class=\"colab-df-convert\" onclick=\"convertToInteractive('df-7f664c1c-06e3-482b-a17a-807e697f1cf3')\"\n",
              "              title=\"Convert this dataframe to an interactive table.\"\n",
              "              style=\"display:none;\">\n",
              "        \n",
              "  <svg xmlns=\"http://www.w3.org/2000/svg\" height=\"24px\"viewBox=\"0 0 24 24\"\n",
              "       width=\"24px\">\n",
              "    <path d=\"M0 0h24v24H0V0z\" fill=\"none\"/>\n",
              "    <path d=\"M18.56 5.44l.94 2.06.94-2.06 2.06-.94-2.06-.94-.94-2.06-.94 2.06-2.06.94zm-11 1L8.5 8.5l.94-2.06 2.06-.94-2.06-.94L8.5 2.5l-.94 2.06-2.06.94zm10 10l.94 2.06.94-2.06 2.06-.94-2.06-.94-.94-2.06-.94 2.06-2.06.94z\"/><path d=\"M17.41 7.96l-1.37-1.37c-.4-.4-.92-.59-1.43-.59-.52 0-1.04.2-1.43.59L10.3 9.45l-7.72 7.72c-.78.78-.78 2.05 0 2.83L4 21.41c.39.39.9.59 1.41.59.51 0 1.02-.2 1.41-.59l7.78-7.78 2.81-2.81c.8-.78.8-2.07 0-2.86zM5.41 20L4 18.59l7.72-7.72 1.47 1.35L5.41 20z\"/>\n",
              "  </svg>\n",
              "      </button>\n",
              "      \n",
              "  <style>\n",
              "    .colab-df-container {\n",
              "      display:flex;\n",
              "      flex-wrap:wrap;\n",
              "      gap: 12px;\n",
              "    }\n",
              "\n",
              "    .colab-df-convert {\n",
              "      background-color: #E8F0FE;\n",
              "      border: none;\n",
              "      border-radius: 50%;\n",
              "      cursor: pointer;\n",
              "      display: none;\n",
              "      fill: #1967D2;\n",
              "      height: 32px;\n",
              "      padding: 0 0 0 0;\n",
              "      width: 32px;\n",
              "    }\n",
              "\n",
              "    .colab-df-convert:hover {\n",
              "      background-color: #E2EBFA;\n",
              "      box-shadow: 0px 1px 2px rgba(60, 64, 67, 0.3), 0px 1px 3px 1px rgba(60, 64, 67, 0.15);\n",
              "      fill: #174EA6;\n",
              "    }\n",
              "\n",
              "    [theme=dark] .colab-df-convert {\n",
              "      background-color: #3B4455;\n",
              "      fill: #D2E3FC;\n",
              "    }\n",
              "\n",
              "    [theme=dark] .colab-df-convert:hover {\n",
              "      background-color: #434B5C;\n",
              "      box-shadow: 0px 1px 3px 1px rgba(0, 0, 0, 0.15);\n",
              "      filter: drop-shadow(0px 1px 2px rgba(0, 0, 0, 0.3));\n",
              "      fill: #FFFFFF;\n",
              "    }\n",
              "  </style>\n",
              "\n",
              "      <script>\n",
              "        const buttonEl =\n",
              "          document.querySelector('#df-7f664c1c-06e3-482b-a17a-807e697f1cf3 button.colab-df-convert');\n",
              "        buttonEl.style.display =\n",
              "          google.colab.kernel.accessAllowed ? 'block' : 'none';\n",
              "\n",
              "        async function convertToInteractive(key) {\n",
              "          const element = document.querySelector('#df-7f664c1c-06e3-482b-a17a-807e697f1cf3');\n",
              "          const dataTable =\n",
              "            await google.colab.kernel.invokeFunction('convertToInteractive',\n",
              "                                                     [key], {});\n",
              "          if (!dataTable) return;\n",
              "\n",
              "          const docLinkHtml = 'Like what you see? Visit the ' +\n",
              "            '<a target=\"_blank\" href=https://colab.research.google.com/notebooks/data_table.ipynb>data table notebook</a>'\n",
              "            + ' to learn more about interactive tables.';\n",
              "          element.innerHTML = '';\n",
              "          dataTable['output_type'] = 'display_data';\n",
              "          await google.colab.output.renderOutput(dataTable, element);\n",
              "          const docLink = document.createElement('div');\n",
              "          docLink.innerHTML = docLinkHtml;\n",
              "          element.appendChild(docLink);\n",
              "        }\n",
              "      </script>\n",
              "    </div>\n",
              "  </div>\n",
              "  "
            ]
          },
          "metadata": {},
          "execution_count": 8
        }
      ]
    },
    {
      "cell_type": "markdown",
      "source": [
        "# Feature Selection\n",
        "Model will be train with features that are Numerical Values"
      ],
      "metadata": {
        "id": "YISTT0AWt7jf"
      }
    },
    {
      "cell_type": "code",
      "source": [
        "NewDataset = Dataset.drop(columns = ['FileName','md5Hash'],axis=1)"
      ],
      "metadata": {
        "id": "5fI5yhbMub8M"
      },
      "execution_count": null,
      "outputs": []
    },
    {
      "cell_type": "code",
      "source": [
        "print (NewDataset)"
      ],
      "metadata": {
        "colab": {
          "base_uri": "https://localhost:8080/"
        },
        "id": "RUwVECufwL2k",
        "outputId": "d1164cde-d223-454a-9085-3add115d85e0"
      },
      "execution_count": null,
      "outputs": [
        {
          "output_type": "stream",
          "name": "stdout",
          "text": [
            "       Machine  DebugSize  DebugRVA  MajorImageVersion  MajorOSVersion  \\\n",
            "0        332.0        0.0       0.0                0.0             4.0   \n",
            "1      34404.0       84.0  121728.0               10.0            10.0   \n",
            "2        332.0        0.0       0.0                0.0             4.0   \n",
            "3      34404.0       84.0   19904.0               10.0            10.0   \n",
            "4      34404.0       84.0   97728.0               10.0            10.0   \n",
            "...        ...        ...       ...                ...             ...   \n",
            "34850    332.0        0.0       0.0                0.0             4.0   \n",
            "34851    332.0        0.0       0.0                1.0             4.0   \n",
            "34852    332.0        0.0       0.0                1.0             4.0   \n",
            "34853    332.0        0.0       0.0                0.0             4.0   \n",
            "34854      NaN        NaN       NaN                NaN             NaN   \n",
            "\n",
            "       ExportRVA  ExportSize    IatVRA  MajorLinkerVersion  \\\n",
            "0            0.0         0.0    8192.0                 8.0   \n",
            "1       126576.0      4930.0       0.0                14.0   \n",
            "2            0.0         0.0    8192.0                 8.0   \n",
            "3        21312.0       252.0   18160.0                14.0   \n",
            "4       105792.0      1852.0   70592.0                14.0   \n",
            "...          ...         ...       ...                 ...   \n",
            "34850        0.0         0.0    8520.0                 6.0   \n",
            "34851        0.0         0.0    4096.0                 6.0   \n",
            "34852        0.0         0.0    4096.0                 6.0   \n",
            "34853        0.0         0.0  385024.0                 6.0   \n",
            "34854        NaN         NaN       NaN                 NaN   \n",
            "\n",
            "       MinorLinkerVersion  NumberOfSections  SizeOfStackReserve  \\\n",
            "0                     0.0               3.0           1048576.0   \n",
            "1                    10.0               8.0            262144.0   \n",
            "2                     0.0               3.0           1048576.0   \n",
            "3                    10.0               6.0            262144.0   \n",
            "4                    10.0               7.0            262144.0   \n",
            "...                   ...               ...                 ...   \n",
            "34850                 0.0               2.0           1048576.0   \n",
            "34851                 0.0               3.0           1048576.0   \n",
            "34852                 0.0               3.0           1048576.0   \n",
            "34853                 0.0               4.0           1048576.0   \n",
            "34854                 NaN               NaN                 NaN   \n",
            "\n",
            "       DllCharacteristics  ResourceSize  BitcoinAddresses  Benign  \n",
            "0                 34112.0         672.0               0.0     1.0  \n",
            "1                 16864.0        1024.0               0.0     1.0  \n",
            "2                 34112.0         672.0               0.0     1.0  \n",
            "3                 16736.0        1040.0               0.0     1.0  \n",
            "4                 16736.0        1096.0               0.0     1.0  \n",
            "...                   ...           ...               ...     ...  \n",
            "34850                 0.0           0.0               0.0     0.0  \n",
            "34851                 0.0        1520.0               0.0     0.0  \n",
            "34852                 0.0       51432.0               0.0     0.0  \n",
            "34853                 0.0      214880.0               0.0     0.0  \n",
            "34854                 NaN           NaN               NaN     NaN  \n",
            "\n",
            "[34855 rows x 16 columns]\n"
          ]
        }
      ]
    },
    {
      "cell_type": "code",
      "source": [
        "NewDataset = NewDataset.dropna(how='any')"
      ],
      "metadata": {
        "id": "kD5jwGmoyQjQ"
      },
      "execution_count": null,
      "outputs": []
    },
    {
      "cell_type": "markdown",
      "source": [
        "**Data Visualization**"
      ],
      "metadata": {
        "id": "WmrQe5zr3B0C"
      }
    },
    {
      "cell_type": "code",
      "source": [
        "# Seperating Data and Targets\n",
        "\n",
        "X = NewDataset.drop(columns = 'Benign', axis=1)\n",
        "Y = NewDataset['Benign']"
      ],
      "metadata": {
        "id": "tRkX2dUAynyR"
      },
      "execution_count": null,
      "outputs": []
    },
    {
      "cell_type": "code",
      "source": [
        "print (X)"
      ],
      "metadata": {
        "colab": {
          "base_uri": "https://localhost:8080/"
        },
        "id": "ClJVIkgIzG7y",
        "outputId": "cc8343d1-550f-4ec2-dfce-8f2b2aae2334"
      },
      "execution_count": null,
      "outputs": [
        {
          "output_type": "stream",
          "name": "stdout",
          "text": [
            "       Machine  DebugSize  DebugRVA  MajorImageVersion  MajorOSVersion  \\\n",
            "0        332.0        0.0       0.0                0.0             4.0   \n",
            "1      34404.0       84.0  121728.0               10.0            10.0   \n",
            "2        332.0        0.0       0.0                0.0             4.0   \n",
            "3      34404.0       84.0   19904.0               10.0            10.0   \n",
            "4      34404.0       84.0   97728.0               10.0            10.0   \n",
            "...        ...        ...       ...                ...             ...   \n",
            "34849    332.0        0.0       0.0                0.0             4.0   \n",
            "34850    332.0        0.0       0.0                0.0             4.0   \n",
            "34851    332.0        0.0       0.0                1.0             4.0   \n",
            "34852    332.0        0.0       0.0                1.0             4.0   \n",
            "34853    332.0        0.0       0.0                0.0             4.0   \n",
            "\n",
            "       ExportRVA  ExportSize    IatVRA  MajorLinkerVersion  \\\n",
            "0            0.0         0.0    8192.0                 8.0   \n",
            "1       126576.0      4930.0       0.0                14.0   \n",
            "2            0.0         0.0    8192.0                 8.0   \n",
            "3        21312.0       252.0   18160.0                14.0   \n",
            "4       105792.0      1852.0   70592.0                14.0   \n",
            "...          ...         ...       ...                 ...   \n",
            "34849        0.0         0.0    8520.0                 6.0   \n",
            "34850        0.0         0.0    8520.0                 6.0   \n",
            "34851        0.0         0.0    4096.0                 6.0   \n",
            "34852        0.0         0.0    4096.0                 6.0   \n",
            "34853        0.0         0.0  385024.0                 6.0   \n",
            "\n",
            "       MinorLinkerVersion  NumberOfSections  SizeOfStackReserve  \\\n",
            "0                     0.0               3.0           1048576.0   \n",
            "1                    10.0               8.0            262144.0   \n",
            "2                     0.0               3.0           1048576.0   \n",
            "3                    10.0               6.0            262144.0   \n",
            "4                    10.0               7.0            262144.0   \n",
            "...                   ...               ...                 ...   \n",
            "34849                 0.0               2.0           1048576.0   \n",
            "34850                 0.0               2.0           1048576.0   \n",
            "34851                 0.0               3.0           1048576.0   \n",
            "34852                 0.0               3.0           1048576.0   \n",
            "34853                 0.0               4.0           1048576.0   \n",
            "\n",
            "       DllCharacteristics  ResourceSize  BitcoinAddresses  \n",
            "0                 34112.0         672.0               0.0  \n",
            "1                 16864.0        1024.0               0.0  \n",
            "2                 34112.0         672.0               0.0  \n",
            "3                 16736.0        1040.0               0.0  \n",
            "4                 16736.0        1096.0               0.0  \n",
            "...                   ...           ...               ...  \n",
            "34849                 0.0           0.0               0.0  \n",
            "34850                 0.0           0.0               0.0  \n",
            "34851                 0.0        1520.0               0.0  \n",
            "34852                 0.0       51432.0               0.0  \n",
            "34853                 0.0      214880.0               0.0  \n",
            "\n",
            "[34854 rows x 15 columns]\n"
          ]
        }
      ]
    },
    {
      "cell_type": "code",
      "source": [
        "print (Y)"
      ],
      "metadata": {
        "colab": {
          "base_uri": "https://localhost:8080/"
        },
        "id": "TK2W5bnkzN4o",
        "outputId": "70401cfc-dd27-42de-b1f0-47a41c01ddcf"
      },
      "execution_count": null,
      "outputs": [
        {
          "output_type": "stream",
          "name": "stdout",
          "text": [
            "0        1.0\n",
            "1        1.0\n",
            "2        1.0\n",
            "3        1.0\n",
            "4        1.0\n",
            "        ... \n",
            "34849    0.0\n",
            "34850    0.0\n",
            "34851    0.0\n",
            "34852    0.0\n",
            "34853    0.0\n",
            "Name: Benign, Length: 34854, dtype: float64\n"
          ]
        }
      ]
    },
    {
      "cell_type": "code",
      "source": [
        "# Data Standardization and Transformation"
      ],
      "metadata": {
        "id": "F-UAdD26aCuL"
      },
      "execution_count": null,
      "outputs": []
    },
    {
      "cell_type": "code",
      "source": [
        "scaler = StandardScaler()"
      ],
      "metadata": {
        "id": "2_lYPGDQQIP5"
      },
      "execution_count": null,
      "outputs": []
    },
    {
      "cell_type": "code",
      "source": [
        "scaler.fit(X)"
      ],
      "metadata": {
        "id": "1YAjCPN-QwMr",
        "colab": {
          "base_uri": "https://localhost:8080/"
        },
        "outputId": "add1882e-074b-4c99-daf6-41e0277987c5"
      },
      "execution_count": null,
      "outputs": [
        {
          "output_type": "execute_result",
          "data": {
            "text/plain": [
              "StandardScaler()"
            ]
          },
          "metadata": {},
          "execution_count": 17
        }
      ]
    },
    {
      "cell_type": "code",
      "source": [
        "StandardScaler(copy=True, with_mean=True, with_std=True)"
      ],
      "metadata": {
        "id": "YPQ7UGkYRHBk",
        "colab": {
          "base_uri": "https://localhost:8080/"
        },
        "outputId": "756b1d0b-3e81-4b48-f074-ebc71dfa3a59"
      },
      "execution_count": null,
      "outputs": [
        {
          "output_type": "execute_result",
          "data": {
            "text/plain": [
              "StandardScaler()"
            ]
          },
          "metadata": {},
          "execution_count": 18
        }
      ]
    },
    {
      "cell_type": "code",
      "source": [
        "standardized_data = scaler.transform(X)"
      ],
      "metadata": {
        "id": "M6uvtWsaRQ3A"
      },
      "execution_count": null,
      "outputs": []
    },
    {
      "cell_type": "code",
      "source": [
        "print(standardized_data)"
      ],
      "metadata": {
        "colab": {
          "base_uri": "https://localhost:8080/"
        },
        "id": "dC4Jyqn1RaCR",
        "outputId": "ecbe8c7d-1094-4a41-a30b-44d80b5c970b"
      },
      "execution_count": null,
      "outputs": [
        {
          "output_type": "stream",
          "name": "stdout",
          "text": [
            "[[-0.71328671 -1.02431866 -0.12564024 ...  1.15287147 -0.07624648\n",
            "  -0.15424895]\n",
            " [ 1.39734252  1.41745657 -0.06498891 ...  0.06685148 -0.07603687\n",
            "  -0.15424895]\n",
            " [-0.71328671 -1.02431866 -0.12564024 ...  1.15287147 -0.07624648\n",
            "  -0.15424895]\n",
            " ...\n",
            " [-0.71328671 -1.02431866 -0.12564024 ... -0.99498995 -0.07574151\n",
            "  -0.15424895]\n",
            " [-0.71328671 -1.02431866 -0.12564024 ... -0.99498995 -0.04601976\n",
            "  -0.15424895]\n",
            " [-0.71328671 -1.02431866 -0.12564024 ... -0.99498995  0.05131078\n",
            "  -0.15424895]]\n"
          ]
        }
      ]
    },
    {
      "cell_type": "code",
      "source": [
        "X = standardized_data\n",
        "Y = NewDataset['Benign']"
      ],
      "metadata": {
        "id": "cyXdpYPWRduQ"
      },
      "execution_count": null,
      "outputs": []
    },
    {
      "cell_type": "code",
      "source": [
        "print(X)\n",
        "print(Y)"
      ],
      "metadata": {
        "colab": {
          "base_uri": "https://localhost:8080/"
        },
        "id": "z-Su6sDpSZaI",
        "outputId": "081a189f-d486-467c-9075-d42b45ef8ea4"
      },
      "execution_count": null,
      "outputs": [
        {
          "output_type": "stream",
          "name": "stdout",
          "text": [
            "[[-0.71328671 -1.02431866 -0.12564024 ...  1.15287147 -0.07624648\n",
            "  -0.15424895]\n",
            " [ 1.39734252  1.41745657 -0.06498891 ...  0.06685148 -0.07603687\n",
            "  -0.15424895]\n",
            " [-0.71328671 -1.02431866 -0.12564024 ...  1.15287147 -0.07624648\n",
            "  -0.15424895]\n",
            " ...\n",
            " [-0.71328671 -1.02431866 -0.12564024 ... -0.99498995 -0.07574151\n",
            "  -0.15424895]\n",
            " [-0.71328671 -1.02431866 -0.12564024 ... -0.99498995 -0.04601976\n",
            "  -0.15424895]\n",
            " [-0.71328671 -1.02431866 -0.12564024 ... -0.99498995  0.05131078\n",
            "  -0.15424895]]\n",
            "0        1.0\n",
            "1        1.0\n",
            "2        1.0\n",
            "3        1.0\n",
            "4        1.0\n",
            "        ... \n",
            "34849    0.0\n",
            "34850    0.0\n",
            "34851    0.0\n",
            "34852    0.0\n",
            "34853    0.0\n",
            "Name: Benign, Length: 34854, dtype: float64\n"
          ]
        }
      ]
    },
    {
      "cell_type": "code",
      "source": [
        "# Splitting the dataset into Training and Testing set\n",
        "X_train, X_test, Y_train, Y_test = train_test_split(X,Y, test_size = 0.3, stratify=Y, random_state=2)"
      ],
      "metadata": {
        "id": "RGgOG495Siek"
      },
      "execution_count": null,
      "outputs": []
    },
    {
      "cell_type": "code",
      "source": [
        "print(X.shape, X_train.shape, X_test.shape)"
      ],
      "metadata": {
        "colab": {
          "base_uri": "https://localhost:8080/"
        },
        "id": "5ceDbgbeS5_X",
        "outputId": "bd344985-d9a8-4dcd-b5a5-759bc2102320"
      },
      "execution_count": null,
      "outputs": [
        {
          "output_type": "stream",
          "name": "stdout",
          "text": [
            "(34854, 15) (24397, 15) (10457, 15)\n"
          ]
        }
      ]
    },
    {
      "cell_type": "code",
      "source": [
        "# Training the Model with Training dataset\n",
        "classifier = svm.SVC(kernel='linear')"
      ],
      "metadata": {
        "id": "mglCqFbdUNU3"
      },
      "execution_count": null,
      "outputs": []
    },
    {
      "cell_type": "markdown",
      "source": [
        "# **Training and Evaluating Logistic Regression Model**"
      ],
      "metadata": {
        "id": "ILAhPAWcKcBn"
      }
    },
    {
      "cell_type": "code",
      "source": [
        "#Training the logistic regression model\n",
        "model1 = LogisticRegression()"
      ],
      "metadata": {
        "id": "uX21wUxTE7yM"
      },
      "execution_count": null,
      "outputs": []
    },
    {
      "cell_type": "code",
      "source": [
        "model1.fit(X_train, Y_train)"
      ],
      "metadata": {
        "colab": {
          "base_uri": "https://localhost:8080/"
        },
        "id": "LZYXkaGuFyA_",
        "outputId": "a925d5aa-d251-4c7d-bd19-317565272f01"
      },
      "execution_count": null,
      "outputs": [
        {
          "output_type": "execute_result",
          "data": {
            "text/plain": [
              "LogisticRegression()"
            ]
          },
          "metadata": {},
          "execution_count": 27
        }
      ]
    },
    {
      "cell_type": "code",
      "source": [
        "#Accuracy Score on Training\n",
        "X_train_prediction1 = model1.predict(X_train)\n",
        "training_data_accuracy1 = accuracy_score(Y_train, X_train_prediction1)\n",
        "\n",
        "print('Accuracy on training data = ',training_data_accuracy1)"
      ],
      "metadata": {
        "colab": {
          "base_uri": "https://localhost:8080/"
        },
        "id": "9621jdGRIVA5",
        "outputId": "2af781fe-0932-42b3-87dc-7a4423081ad7"
      },
      "execution_count": null,
      "outputs": [
        {
          "output_type": "stream",
          "name": "stdout",
          "text": [
            "Accuracy on training data =  0.9433946796737304\n"
          ]
        }
      ]
    },
    {
      "cell_type": "markdown",
      "source": [
        "# **Training and Evaluating Random Forest Model**"
      ],
      "metadata": {
        "id": "EH0YH-xUKxgU"
      }
    },
    {
      "cell_type": "code",
      "source": [
        "#Training the Random Forest\n",
        "model2 = RandomForestClassifier()\n",
        "model2.fit(X_train, Y_train)"
      ],
      "metadata": {
        "id": "7w_F6J5EK9AP",
        "colab": {
          "base_uri": "https://localhost:8080/"
        },
        "outputId": "57022ed5-c2ae-4668-d7e5-6339d143267a"
      },
      "execution_count": null,
      "outputs": [
        {
          "output_type": "execute_result",
          "data": {
            "text/plain": [
              "RandomForestClassifier()"
            ]
          },
          "metadata": {},
          "execution_count": 29
        }
      ]
    },
    {
      "cell_type": "code",
      "source": [
        "#Accuracy Score on Training\n",
        "X_train_prediction2 = model2.predict(X_train)\n",
        "training_data_accuracy2 = accuracy_score(Y_train, X_train_prediction1)\n",
        "\n",
        "print('Accuracy on training data = ',training_data_accuracy2)"
      ],
      "metadata": {
        "colab": {
          "base_uri": "https://localhost:8080/"
        },
        "id": "l6QstcRJSLHO",
        "outputId": "b5f2d80b-0922-4cb9-dacc-c5b09b94865e"
      },
      "execution_count": null,
      "outputs": [
        {
          "output_type": "stream",
          "name": "stdout",
          "text": [
            "Accuracy on training data =  0.9433946796737304\n"
          ]
        }
      ]
    },
    {
      "cell_type": "code",
      "source": [
        "#training the support vector Machine Classifier\n",
        "classifier.fit(X_train, Y_train)"
      ],
      "metadata": {
        "colab": {
          "base_uri": "https://localhost:8080/"
        },
        "id": "qFRMUDjdVGTO",
        "outputId": "49055ad8-0acd-4ada-b3c3-913822b1721c"
      },
      "execution_count": null,
      "outputs": [
        {
          "output_type": "execute_result",
          "data": {
            "text/plain": [
              "SVC(kernel='linear')"
            ]
          },
          "metadata": {},
          "execution_count": 30
        }
      ]
    },
    {
      "cell_type": "code",
      "source": [
        "plot_confusion_matrix (classifier,X_train,Y_train)\n",
        "plot_confusion_matrix (classifier,X_test,Y_test)"
      ],
      "metadata": {
        "colab": {
          "base_uri": "https://localhost:8080/",
          "height": 650
        },
        "id": "zQCSpllatdm0",
        "outputId": "f0f8913b-e4b7-4036-f585-d6e4fa4eed5f"
      },
      "execution_count": null,
      "outputs": [
        {
          "output_type": "stream",
          "name": "stderr",
          "text": [
            "/usr/local/lib/python3.7/dist-packages/sklearn/utils/deprecation.py:87: FutureWarning: Function plot_confusion_matrix is deprecated; Function `plot_confusion_matrix` is deprecated in 1.0 and will be removed in 1.2. Use one of the class methods: ConfusionMatrixDisplay.from_predictions or ConfusionMatrixDisplay.from_estimator.\n",
            "  warnings.warn(msg, category=FutureWarning)\n",
            "/usr/local/lib/python3.7/dist-packages/sklearn/utils/deprecation.py:87: FutureWarning: Function plot_confusion_matrix is deprecated; Function `plot_confusion_matrix` is deprecated in 1.0 and will be removed in 1.2. Use one of the class methods: ConfusionMatrixDisplay.from_predictions or ConfusionMatrixDisplay.from_estimator.\n",
            "  warnings.warn(msg, category=FutureWarning)\n"
          ]
        },
        {
          "output_type": "execute_result",
          "data": {
            "text/plain": [
              "<sklearn.metrics._plot.confusion_matrix.ConfusionMatrixDisplay at 0x7fba711c6610>"
            ]
          },
          "metadata": {},
          "execution_count": 31
        },
        {
          "output_type": "display_data",
          "data": {
            "text/plain": [
              "<Figure size 432x288 with 2 Axes>"
            ],
            "image/png": "[encoded data removed]"
          },
          "metadata": {
            "needs_background": "light"
          }
        },
        {
          "output_type": "display_data",
          "data": {
            "text/plain": [
              "<Figure size 432x288 with 2 Axes>"
            ],
            "image/png": "[encoded data removed]"
          },
          "metadata": {
            "needs_background": "light"
          }
        }
      ]
    },
    {
      "cell_type": "markdown",
      "source": [
        "Model Evaluation"
      ],
      "metadata": {
        "id": "8f5sUmVpYWv7"
      }
    },
    {
      "cell_type": "code",
      "source": [
        "# Model Evaluation\n",
        "\n",
        "# Accuracy Score\n",
        "\n",
        "# accuracy score on the training data\n",
        "X_train_prediction = classifier.predict(X_train)\n",
        "training_data_accuracy = accuracy_score(X_train_prediction, Y_train)"
      ],
      "metadata": {
        "id": "3B45Sp0cWWsG"
      },
      "execution_count": null,
      "outputs": []
    },
    {
      "cell_type": "code",
      "source": [
        "print('Accuracy score of the training data : ', training_data_accuracy)"
      ],
      "metadata": {
        "colab": {
          "base_uri": "https://localhost:8080/"
        },
        "id": "in2vB_2XW1-L",
        "outputId": "d29485cf-081d-41ea-8621-ef611ee70d8f"
      },
      "execution_count": null,
      "outputs": [
        {
          "output_type": "stream",
          "name": "stdout",
          "text": [
            "Accuracy score of the training data :  0.944829282288806\n"
          ]
        }
      ]
    },
    {
      "cell_type": "code",
      "source": [
        "# accuracy score on the test data\n",
        "X_test_prediction = classifier.predict(X_test)\n",
        "test_data_accuracy = accuracy_score(X_test_prediction, Y_test)"
      ],
      "metadata": {
        "id": "LkNxCerBXBGm"
      },
      "execution_count": null,
      "outputs": []
    },
    {
      "cell_type": "code",
      "source": [
        "print('Accuracy score of the test data : ', test_data_accuracy)"
      ],
      "metadata": {
        "colab": {
          "base_uri": "https://localhost:8080/"
        },
        "id": "9iV_BvrGXhX2",
        "outputId": "3ca9b0f9-e780-4730-ccae-61fc82bafd59"
      },
      "execution_count": null,
      "outputs": [
        {
          "output_type": "stream",
          "name": "stdout",
          "text": [
            "Accuracy score of the test data :  0.9477861719422397\n"
          ]
        }
      ]
    },
    {
      "cell_type": "code",
      "source": [
        "# Plotting the other evaluation metrics\n",
        "plot_precision_recall_curve( classifier, X_test, Y_test, name = 'Support Vector Classifier')\n",
        "plot_precision_recall_curve( classifier,X_test,Y_test)"
      ],
      "metadata": {
        "colab": {
          "base_uri": "https://localhost:8080/",
          "height": 650
        },
        "id": "zExJ0nrQFtgo",
        "outputId": "3f51bd65-9e1f-4ddf-a780-5d45083ff9d7"
      },
      "execution_count": null,
      "outputs": [
        {
          "output_type": "stream",
          "name": "stderr",
          "text": [
            "/usr/local/lib/python3.7/dist-packages/sklearn/utils/deprecation.py:87: FutureWarning: Function plot_precision_recall_curve is deprecated; Function `plot_precision_recall_curve` is deprecated in 1.0 and will be removed in 1.2. Use one of the class methods: PrecisionRecallDisplay.from_predictions or PrecisionRecallDisplay.from_estimator.\n",
            "  warnings.warn(msg, category=FutureWarning)\n",
            "/usr/local/lib/python3.7/dist-packages/sklearn/utils/deprecation.py:87: FutureWarning: Function plot_precision_recall_curve is deprecated; Function `plot_precision_recall_curve` is deprecated in 1.0 and will be removed in 1.2. Use one of the class methods: PrecisionRecallDisplay.from_predictions or PrecisionRecallDisplay.from_estimator.\n",
            "  warnings.warn(msg, category=FutureWarning)\n"
          ]
        },
        {
          "output_type": "execute_result",
          "data": {
            "text/plain": [
              "<sklearn.metrics._plot.precision_recall_curve.PrecisionRecallDisplay at 0x7fba6bba7a50>"
            ]
          },
          "metadata": {},
          "execution_count": 36
        },
        {
          "output_type": "display_data",
          "data": {
            "text/plain": [
              "<Figure size 432x288 with 1 Axes>"
            ],
            "image/png": "[encoded data removed]"
          },
          "metadata": {
            "needs_background": "light"
          }
        },
        {
          "output_type": "display_data",
          "data": {
            "text/plain": [
              "<Figure size 432x288 with 1 Axes>"
            ],
            "image/png": "[encoded data removed]"
          },
          "metadata": {
            "needs_background": "light"
          }
        }
      ]
    },
    {
      "cell_type": "code",
      "source": [
        "plot_roc_curve (classifier,X_train,Y_train)\n",
        "plot_roc_curve (classifier,X_test,Y_test)"
      ],
      "metadata": {
        "colab": {
          "base_uri": "https://localhost:8080/",
          "height": 650
        },
        "id": "C6bNwr4B7oyl",
        "outputId": "c787637c-a38a-453b-c974-10a2dd5295bc"
      },
      "execution_count": null,
      "outputs": [
        {
          "output_type": "stream",
          "name": "stderr",
          "text": [
            "/usr/local/lib/python3.7/dist-packages/sklearn/utils/deprecation.py:87: FutureWarning: Function plot_roc_curve is deprecated; Function :func:`plot_roc_curve` is deprecated in 1.0 and will be removed in 1.2. Use one of the class methods: :meth:`sklearn.metric.RocCurveDisplay.from_predictions` or :meth:`sklearn.metric.RocCurveDisplay.from_estimator`.\n",
            "  warnings.warn(msg, category=FutureWarning)\n",
            "/usr/local/lib/python3.7/dist-packages/sklearn/utils/deprecation.py:87: FutureWarning: Function plot_roc_curve is deprecated; Function :func:`plot_roc_curve` is deprecated in 1.0 and will be removed in 1.2. Use one of the class methods: :meth:`sklearn.metric.RocCurveDisplay.from_predictions` or :meth:`sklearn.metric.RocCurveDisplay.from_estimator`.\n",
            "  warnings.warn(msg, category=FutureWarning)\n"
          ]
        },
        {
          "output_type": "execute_result",
          "data": {
            "text/plain": [
              "<sklearn.metrics._plot.roc_curve.RocCurveDisplay at 0x7fba6ba99350>"
            ]
          },
          "metadata": {},
          "execution_count": 37
        },
        {
          "output_type": "display_data",
          "data": {
            "text/plain": [
              "<Figure size 432x288 with 1 Axes>"
            ],
            "image/png": "[encoded data removed]"
          },
          "metadata": {
            "needs_background": "light"
          }
        },
        {
          "output_type": "display_data",
          "data": {
            "text/plain": [
              "<Figure size 432x288 with 1 Axes>"
            ],
            "image/png": "[encoded data removed]"
          },
          "metadata": {
            "needs_background": "light"
          }
        }
      ]
    },
    {
      "cell_type": "code",
      "source": [
        " f = f1_score(Y_train, X_train_prediction )\n",
        " print(\"\\t[*] F1 Score: \", round(f*100, 2), '%')"
      ],
      "metadata": {
        "colab": {
          "base_uri": "https://localhost:8080/"
        },
        "id": "1Q4HM06ZlxHy",
        "outputId": "f727fe6e-52da-4ea0-b8cd-8e293cf60fa2"
      },
      "execution_count": null,
      "outputs": [
        {
          "output_type": "stream",
          "name": "stdout",
          "text": [
            "\t[*] F1 Score:  96.49 %\n"
          ]
        }
      ]
    },
    {
      "cell_type": "markdown",
      "source": [
        "Making a Ransomware detection system"
      ],
      "metadata": {
        "id": "r5UDuUXOYeo1"
      }
    },
    {
      "cell_type": "code",
      "source": [
        "input_data = (332,0,0,0,4,0,0,8192,8,0,3,1048576,34112,1136,0)\n",
        "\n",
        "# changing the input_data to numpy array\n",
        "input_data_as_numpy_array = np.asarray(input_data)\n",
        "\n",
        "# reshape the array as we are predicting for one instance\n",
        "input_data_reshaped = input_data_as_numpy_array.reshape(1,-1)\n",
        "\n",
        "# standardize the input data\n",
        "std_data = scaler.transform(input_data_reshaped)\n",
        "print(std_data)\n",
        "\n",
        "prediction = classifier.predict(std_data)\n",
        "print(prediction)\n",
        "\n",
        "if (prediction[0] == 0):\n",
        "  print('The Sample is a Ransomware file')\n",
        "else:\n",
        "  print('The Sample is clean not Ransomware file')"
      ],
      "metadata": {
        "id": "931J9eZnYvia",
        "colab": {
          "base_uri": "https://localhost:8080/"
        },
        "outputId": "6d7ae980-88b7-4a07-a156-ab9f93f789c1"
      },
      "execution_count": null,
      "outputs": [
        {
          "output_type": "stream",
          "name": "stdout",
          "text": [
            "[[-0.71328671 -1.02431866 -0.12564024 -0.07019168 -0.89502188 -0.02411551\n",
            "  -0.01075138 -0.13728843 -0.41331305 -0.48546139 -0.83694378  0.41373468\n",
            "   1.15287147 -0.07597018 -0.15424895]]\n",
            "[1.]\n",
            "The Sample is clean not Ransomware file\n"
          ]
        },
        {
          "output_type": "stream",
          "name": "stderr",
          "text": [
            "/usr/local/lib/python3.7/dist-packages/sklearn/base.py:451: UserWarning: X does not have valid feature names, but StandardScaler was fitted with feature names\n",
            "  \"X does not have valid feature names, but\"\n"
          ]
        }
      ]
    }
  ]
}